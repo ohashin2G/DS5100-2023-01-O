{
  "nbformat": 4,
  "nbformat_minor": 0,
  "metadata": {
    "colab": {
      "provenance": [],
      "authorship_tag": "ABX9TyO0qzHxbe6p7vnjXWuYNHUu",
      "include_colab_link": true
    },
    "kernelspec": {
      "name": "python3",
      "display_name": "Python 3"
    },
    "language_info": {
      "name": "python"
    }
  },
  "cells": [
    {
      "cell_type": "markdown",
      "metadata": {
        "id": "view-in-github",
        "colab_type": "text"
      },
      "source": [
        "<a href=\"https://colab.research.google.com/github/ohashin2G/DS5100-2023-01-O/blob/main/Exercise4.ipynb\" target=\"_parent\"><img src=\"https://colab.research.google.com/assets/colab-badge.svg\" alt=\"Open In Colab\"/></a>"
      ]
    },
    {
      "cell_type": "code",
      "source": [
        "import math"
      ],
      "metadata": {
        "id": "X-nw9NMnMCGY"
      },
      "execution_count": 5,
      "outputs": []
    },
    {
      "cell_type": "markdown",
      "source": [
        "Exercise 4.1 docstring"
      ],
      "metadata": {
        "id": "CBrTLFYIQ9M0"
      }
    },
    {
      "cell_type": "code",
      "execution_count": 36,
      "metadata": {
        "id": "LOntsqlBcGOg"
      },
      "outputs": [],
      "source": [
        "def my_string_len_is_equal_to_integer(stringtest, inttest):\n",
        "  '''Returns True if the string length is equal to the integer, else False'''\n",
        "  if len(stringtest) == inttest:\n",
        "    return \"true\"\n",
        "  else:\n",
        "    return \"false\"  \n",
        "  \n",
        "  #bools = [stringtest >= inttest for stringtest in stringtest]\n",
        "  #return bools"
      ]
    },
    {
      "cell_type": "code",
      "source": [
        "#Test for ints\n",
        "result = my_string_len_is_equal_to_integer(\"apple\",6)\n",
        "result"
      ],
      "metadata": {
        "colab": {
          "base_uri": "https://localhost:8080/"
        },
        "id": "Bf1C5u-WRJ8_",
        "outputId": "fc3b933f-d68d-4701-cdf2-0c14e485e836"
      },
      "execution_count": 44,
      "outputs": [
        {
          "output_type": "execute_result",
          "data": {
            "text/plain": [
              "False"
            ]
          },
          "metadata": {},
          "execution_count": 44
        }
      ]
    },
    {
      "cell_type": "code",
      "source": [
        "result = my_string_len_is_equal_to_integer(\"is this text the right length?\",30)\n",
        "result"
      ],
      "metadata": {
        "colab": {
          "base_uri": "https://localhost:8080/",
          "height": 36
        },
        "id": "woArXPwFRTkY",
        "outputId": "bfcf613f-b127-43f0-e6fb-40f8e6e77a74"
      },
      "execution_count": 38,
      "outputs": [
        {
          "output_type": "execute_result",
          "data": {
            "text/plain": [
              "'true'"
            ],
            "application/vnd.google.colaboratory.intrinsic+json": {
              "type": "string"
            }
          },
          "metadata": {},
          "execution_count": 38
        }
      ]
    },
    {
      "cell_type": "code",
      "source": [
        "# Answer\n",
        "def my_string_len_is_equal_to_integer(stringtest, inttest):\n",
        "  '''Returns True if the string length is equal to the integer, else False'''\n",
        "  check = len(stringtest) == inttest\n",
        "  return check\n",
        "  #return len(stringtest) == inttest"
      ],
      "metadata": {
        "id": "B3eio_FoZVxV"
      },
      "execution_count": 40,
      "outputs": []
    },
    {
      "cell_type": "code",
      "source": [
        "stringtest = \"is this text the right length?\"\n",
        "inttest = 30\n",
        "out = my_string_len_is_equal_to_integer(stringtest, inttest)\n",
        "out"
      ],
      "metadata": {
        "colab": {
          "base_uri": "https://localhost:8080/"
        },
        "id": "sSMQ3ip1aofd",
        "outputId": "63ea49a2-cd8d-42cc-f3f5-e6156cf45aad"
      },
      "execution_count": 42,
      "outputs": [
        {
          "output_type": "execute_result",
          "data": {
            "text/plain": [
              "True"
            ]
          },
          "metadata": {},
          "execution_count": 42
        }
      ]
    },
    {
      "cell_type": "markdown",
      "source": [
        "Excerise 4.2 *arg"
      ],
      "metadata": {
        "id": "GqCtZL2SYgYv"
      }
    },
    {
      "cell_type": "code",
      "source": [
        "def square_arg_value(*square):\n",
        "    for r2 in square:\n",
        "        print(r2**2)\n",
        "    return None "
      ],
      "metadata": {
        "id": "Dwj0JB4nYkKB"
      },
      "execution_count": 47,
      "outputs": []
    },
    {
      "cell_type": "code",
      "source": [
        "square_arg_value(2,3,8)"
      ],
      "metadata": {
        "colab": {
          "base_uri": "https://localhost:8080/"
        },
        "id": "dQLsV19leJLC",
        "outputId": "8455378b-edf3-438e-a3ad-ec070a9daeb3"
      },
      "execution_count": 48,
      "outputs": [
        {
          "output_type": "stream",
          "name": "stdout",
          "text": [
            "4\n",
            "9\n",
            "64\n"
          ]
        }
      ]
    },
    {
      "cell_type": "code",
      "source": [
        "#Alternative\n",
        "list_o_nums = [10,100,5,62,42]\n",
        "square_arg_value(*list_o_nums)"
      ],
      "metadata": {
        "colab": {
          "base_uri": "https://localhost:8080/"
        },
        "id": "HGGS_GNIePT_",
        "outputId": "594427df-9ac4-4f44-a1b6-cbc959413bce"
      },
      "execution_count": 49,
      "outputs": [
        {
          "output_type": "stream",
          "name": "stdout",
          "text": [
            "100\n",
            "10000\n",
            "25\n",
            "3844\n",
            "1764\n"
          ]
        }
      ]
    },
    {
      "cell_type": "markdown",
      "source": [
        "Excerise 4.3  word_shortener()"
      ],
      "metadata": {
        "id": "ddH-UbTRezPq"
      }
    },
    {
      "cell_type": "code",
      "source": [
        "def word_shortener(word):\n",
        "    if len(word) <= 2:\n",
        "        return word.upper()\n",
        "    else:\n",
        "        first_char = word[0].upper()\n",
        "        last_char = word[-1].upper()\n",
        "        middle_count = str(len(word) - 2)\n",
        "        return first_char + middle_count + last_char\n"
      ],
      "metadata": {
        "id": "-eRcwSwejJ3-"
      },
      "execution_count": 50,
      "outputs": []
    },
    {
      "cell_type": "code",
      "source": [
        "word_shortener(\"telecommute\")\n",
        "print(word_shortener)\n"
      ],
      "metadata": {
        "colab": {
          "base_uri": "https://localhost:8080/"
        },
        "id": "BnIHYj5qfF4M",
        "outputId": "0c649bcd-7e5d-4dcb-c0c4-4fdc55259943"
      },
      "execution_count": 58,
      "outputs": [
        {
          "output_type": "stream",
          "name": "stdout",
          "text": [
            "<function word_shortener at 0x7fb5b54ce280>\n"
          ]
        }
      ]
    },
    {
      "cell_type": "code",
      "source": [
        "#Answer\n",
        "def word_shortener(word, min_len=5):\n",
        "  \"Converts a long word into word withinternal letters replace by their count.\"\n",
        "   #validate the input\n",
        "  if not isinstance(word, str):\n",
        "      print(f\"{word} is a {type(word)}, not a string!\")\n",
        "  elif len(word) < min_len:\n",
        "      print(f\"{word} is too short.  Put in a word at least {min_len} letters long\")\n",
        "      return False \n",
        "  else:\n",
        "      first_char = word[0].upper()\n",
        "      last_char = word[-1].upper()\n",
        "      middle_number = len(word[1:-1])\n",
        "      new_word = first_char + str(middle_number) + last_char\n",
        "      return new_word"
      ],
      "metadata": {
        "id": "lr35r2U1kkmI"
      },
      "execution_count": 56,
      "outputs": []
    },
    {
      "cell_type": "code",
      "source": [
        "word_shortener(\"telecommute\")"
      ],
      "metadata": {
        "colab": {
          "base_uri": "https://localhost:8080/",
          "height": 36
        },
        "id": "x4QMHfkGnawM",
        "outputId": "bbdf7e95-d9cb-4b5f-e562-334b45b380fa"
      },
      "execution_count": 57,
      "outputs": [
        {
          "output_type": "execute_result",
          "data": {
            "text/plain": [
              "'T9E'"
            ],
            "application/vnd.google.colaboratory.intrinsic+json": {
              "type": "string"
            }
          },
          "metadata": {},
          "execution_count": 57
        }
      ]
    },
    {
      "cell_type": "code",
      "source": [
        "#lambda version\n",
        "get_shorty = lambda x: f\"{x[0]}{len(x[1:-1])}{x[-1]}\".upper()\n",
        "get_shorty(\"operationalization\")"
      ],
      "metadata": {
        "colab": {
          "base_uri": "https://localhost:8080/",
          "height": 36
        },
        "id": "yOPcbRZuoe4u",
        "outputId": "32078d4c-91af-4d70-ecae-af0e939e9cd0"
      },
      "execution_count": 59,
      "outputs": [
        {
          "output_type": "execute_result",
          "data": {
            "text/plain": [
              "'O16N'"
            ],
            "application/vnd.google.colaboratory.intrinsic+json": {
              "type": "string"
            }
          },
          "metadata": {},
          "execution_count": 59
        }
      ]
    },
    {
      "cell_type": "markdown",
      "source": [
        "Excerise 4.4 Step function"
      ],
      "metadata": {
        "id": "StZwK5r2ni5Z"
      }
    },
    {
      "cell_type": "code",
      "source": [
        "def nonnegative_check(num):\n",
        "  diff = num -5\n",
        "  if diff >=0:\n",
        "    return 1\n",
        "  else: \n",
        "    return 0"
      ],
      "metadata": {
        "id": "-Gw-mjG3pwWH"
      },
      "execution_count": 61,
      "outputs": []
    },
    {
      "cell_type": "code",
      "source": [
        "nonnegative_check(3)"
      ],
      "metadata": {
        "colab": {
          "base_uri": "https://localhost:8080/"
        },
        "id": "whO1LVLxrB6e",
        "outputId": "d0c98b35-5345-463b-8bd1-2e5339c95d2b"
      },
      "execution_count": 63,
      "outputs": [
        {
          "output_type": "execute_result",
          "data": {
            "text/plain": [
              "0"
            ]
          },
          "metadata": {},
          "execution_count": 63
        }
      ]
    },
    {
      "cell_type": "code",
      "source": [
        "nonnegative_check(7)"
      ],
      "metadata": {
        "colab": {
          "base_uri": "https://localhost:8080/"
        },
        "id": "EkCWc-1urU4I",
        "outputId": "059b6af4-2aa0-4940-ad5e-12b91b445159"
      },
      "execution_count": 64,
      "outputs": [
        {
          "output_type": "execute_result",
          "data": {
            "text/plain": [
              "1"
            ]
          },
          "metadata": {},
          "execution_count": 64
        }
      ]
    },
    {
      "cell_type": "markdown",
      "source": [
        "Excerise 4.5"
      ],
      "metadata": {
        "id": "k74ua8I5rlaK"
      }
    },
    {
      "cell_type": "code",
      "source": [
        "def define_and_print():\n",
        "  x = 25\n",
        "  print(x)"
      ],
      "metadata": {
        "id": "7hrW38hFri-n"
      },
      "execution_count": 74,
      "outputs": []
    },
    {
      "cell_type": "code",
      "source": [
        "#Answer\n",
        "define_and_print()"
      ],
      "metadata": {
        "colab": {
          "base_uri": "https://localhost:8080/"
        },
        "id": "cEUQhOqMspxv",
        "outputId": "aa0a7c7b-64ae-4158-ef03-270eb5e029e2"
      },
      "execution_count": 75,
      "outputs": [
        {
          "output_type": "stream",
          "name": "stdout",
          "text": [
            "25\n"
          ]
        }
      ]
    },
    {
      "cell_type": "code",
      "source": [
        "print(x)  #This is supposed to return NameError. x is not defined"
      ],
      "metadata": {
        "colab": {
          "base_uri": "https://localhost:8080/"
        },
        "id": "bOPYQv6lsywz",
        "outputId": "8c9082a0-bdd1-406e-8085-a90bb99c9014"
      },
      "execution_count": 76,
      "outputs": [
        {
          "output_type": "stream",
          "name": "stdout",
          "text": [
            "[5, 7]\n"
          ]
        }
      ]
    },
    {
      "cell_type": "markdown",
      "source": [
        "Excerise 4.6"
      ],
      "metadata": {
        "id": "TCVtJhV_t5qi"
      }
    },
    {
      "cell_type": "code",
      "source": [
        "def print_me():\n",
        "  print(x1)\n",
        "\n",
        "print_me()"
      ],
      "metadata": {
        "colab": {
          "base_uri": "https://localhost:8080/",
          "height": 317
        },
        "id": "794H7fU5tqCD",
        "outputId": "3b86da82-7e73-46f3-cf99-ab5c3ba29fde"
      },
      "execution_count": 77,
      "outputs": [
        {
          "output_type": "error",
          "ename": "NameError",
          "evalue": "ignored",
          "traceback": [
            "\u001b[0;31m---------------------------------------------------------------------------\u001b[0m",
            "\u001b[0;31mNameError\u001b[0m                                 Traceback (most recent call last)",
            "\u001b[0;32m<ipython-input-77-728a761917c4>\u001b[0m in \u001b[0;36m<module>\u001b[0;34m\u001b[0m\n\u001b[1;32m      2\u001b[0m   \u001b[0mprint\u001b[0m\u001b[0;34m(\u001b[0m\u001b[0mx1\u001b[0m\u001b[0;34m)\u001b[0m\u001b[0;34m\u001b[0m\u001b[0;34m\u001b[0m\u001b[0m\n\u001b[1;32m      3\u001b[0m \u001b[0;34m\u001b[0m\u001b[0m\n\u001b[0;32m----> 4\u001b[0;31m \u001b[0mprint_me\u001b[0m\u001b[0;34m(\u001b[0m\u001b[0;34m)\u001b[0m\u001b[0;34m\u001b[0m\u001b[0;34m\u001b[0m\u001b[0m\n\u001b[0m",
            "\u001b[0;32m<ipython-input-77-728a761917c4>\u001b[0m in \u001b[0;36mprint_me\u001b[0;34m()\u001b[0m\n\u001b[1;32m      1\u001b[0m \u001b[0;32mdef\u001b[0m \u001b[0mprint_me\u001b[0m\u001b[0;34m(\u001b[0m\u001b[0;34m)\u001b[0m\u001b[0;34m:\u001b[0m\u001b[0;34m\u001b[0m\u001b[0;34m\u001b[0m\u001b[0m\n\u001b[0;32m----> 2\u001b[0;31m   \u001b[0mprint\u001b[0m\u001b[0;34m(\u001b[0m\u001b[0mx1\u001b[0m\u001b[0;34m)\u001b[0m\u001b[0;34m\u001b[0m\u001b[0;34m\u001b[0m\u001b[0m\n\u001b[0m\u001b[1;32m      3\u001b[0m \u001b[0;34m\u001b[0m\u001b[0m\n\u001b[1;32m      4\u001b[0m \u001b[0mprint_me\u001b[0m\u001b[0;34m(\u001b[0m\u001b[0;34m)\u001b[0m\u001b[0;34m\u001b[0m\u001b[0;34m\u001b[0m\u001b[0m\n",
            "\u001b[0;31mNameError\u001b[0m: name 'x1' is not defined"
          ]
        }
      ]
    },
    {
      "cell_type": "code",
      "source": [
        "def print_me2():\n",
        "  x2 = 5\n",
        "  print(x2)  #Local\n",
        "\n",
        "print_me2()  #Global"
      ],
      "metadata": {
        "colab": {
          "base_uri": "https://localhost:8080/"
        },
        "id": "3kGA3MI8ubcR",
        "outputId": "fb0822ca-ad56-4508-8559-0d0028b514a5"
      },
      "execution_count": 78,
      "outputs": [
        {
          "output_type": "stream",
          "name": "stdout",
          "text": [
            "5\n"
          ]
        }
      ]
    },
    {
      "cell_type": "code",
      "source": [
        "x2 = 7\n",
        "print_me2()\n",
        "print(x2)"
      ],
      "metadata": {
        "colab": {
          "base_uri": "https://localhost:8080/"
        },
        "id": "ac3jYHNQu4tq",
        "outputId": "2d6da298-70f1-47d0-b933-f41cad24ebbc"
      },
      "execution_count": 80,
      "outputs": [
        {
          "output_type": "stream",
          "name": "stdout",
          "text": [
            "5\n",
            "7\n"
          ]
        }
      ]
    },
    {
      "cell_type": "code",
      "source": [
        "def printme3(x3):\n",
        "  print(x3)\n",
        "\n",
        "x3 = 9\n",
        "print_me3()  #\n",
        "print_me3(x3)  #\n",
        "print(x3)    #\n"
      ],
      "metadata": {
        "colab": {
          "base_uri": "https://localhost:8080/",
          "height": 244
        },
        "id": "nQPDAQjnvC6V",
        "outputId": "2fcbfc0f-7297-4b9c-e196-b7c77b090b17"
      },
      "execution_count": 84,
      "outputs": [
        {
          "output_type": "error",
          "ename": "NameError",
          "evalue": "ignored",
          "traceback": [
            "\u001b[0;31m---------------------------------------------------------------------------\u001b[0m",
            "\u001b[0;31mNameError\u001b[0m                                 Traceback (most recent call last)",
            "\u001b[0;32m<ipython-input-84-628c9657056b>\u001b[0m in \u001b[0;36m<module>\u001b[0;34m\u001b[0m\n\u001b[1;32m      3\u001b[0m \u001b[0;34m\u001b[0m\u001b[0m\n\u001b[1;32m      4\u001b[0m \u001b[0mx3\u001b[0m \u001b[0;34m=\u001b[0m \u001b[0;36m9\u001b[0m\u001b[0;34m\u001b[0m\u001b[0;34m\u001b[0m\u001b[0m\n\u001b[0;32m----> 5\u001b[0;31m \u001b[0mprint_me3\u001b[0m\u001b[0;34m(\u001b[0m\u001b[0;34m)\u001b[0m  \u001b[0;31m#\u001b[0m\u001b[0;34m\u001b[0m\u001b[0;34m\u001b[0m\u001b[0m\n\u001b[0m\u001b[1;32m      6\u001b[0m \u001b[0mprint_me3\u001b[0m\u001b[0;34m(\u001b[0m\u001b[0mx3\u001b[0m\u001b[0;34m)\u001b[0m  \u001b[0;31m#\u001b[0m\u001b[0;34m\u001b[0m\u001b[0;34m\u001b[0m\u001b[0m\n\u001b[1;32m      7\u001b[0m \u001b[0mprint\u001b[0m\u001b[0;34m(\u001b[0m\u001b[0mx3\u001b[0m\u001b[0;34m)\u001b[0m    \u001b[0;31m#\u001b[0m\u001b[0;34m\u001b[0m\u001b[0;34m\u001b[0m\u001b[0m\n",
            "\u001b[0;31mNameError\u001b[0m: name 'print_me3' is not defined"
          ]
        }
      ]
    },
    {
      "cell_type": "code",
      "source": [
        "def print_me4(x4=5):\n",
        "  print(x4)\n",
        "\n",
        "x4=9\n",
        "print_me4()\n",
        "print_me4(x4)\n",
        "print_me4()\n",
        "print(x4)  #Global variable"
      ],
      "metadata": {
        "colab": {
          "base_uri": "https://localhost:8080/"
        },
        "id": "ZCkWh3ufv_Q0",
        "outputId": "66e640c7-92a0-4716-eb70-b9934ce51609"
      },
      "execution_count": 85,
      "outputs": [
        {
          "output_type": "stream",
          "name": "stdout",
          "text": [
            "5\n",
            "9\n",
            "5\n",
            "9\n"
          ]
        }
      ]
    },
    {
      "cell_type": "markdown",
      "source": [
        "Exercise 4.9 Lambda functions"
      ],
      "metadata": {
        "id": "trjQUT6dxAVB"
      }
    },
    {
      "cell_type": "code",
      "source": [
        "#c2f\n",
        "def c2f(temp):  \n",
        "    \"\"\"\n",
        "    Converts C to F and returns a rounded result.\n",
        "    Expects an integer and returns an integer.\n",
        "    \"\"\"\n",
        "    return round(temp * (1.8) + 32)\n",
        "    print(temp)"
      ],
      "metadata": {
        "id": "KWmnAsvpxEq-"
      },
      "execution_count": 88,
      "outputs": []
    },
    {
      "cell_type": "code",
      "source": [
        "#Answer\n",
        "c2f = lambda cval: 1.8 * cval +32"
      ],
      "metadata": {
        "id": "gdAuunlh0GxD"
      },
      "execution_count": 92,
      "outputs": []
    },
    {
      "cell_type": "code",
      "source": [
        "c2f(45)"
      ],
      "metadata": {
        "colab": {
          "base_uri": "https://localhost:8080/"
        },
        "id": "mjVxgrt70UqG",
        "outputId": "05dee8d2-0515-45a0-986a-8cc5210c2057"
      },
      "execution_count": 93,
      "outputs": [
        {
          "output_type": "execute_result",
          "data": {
            "text/plain": [
              "113.0"
            ]
          },
          "metadata": {},
          "execution_count": 93
        }
      ]
    },
    {
      "cell_type": "code",
      "source": [
        "#f2c\n",
        "def f2c(temp):  \n",
        "    \"\"\"\n",
        "    Converts F to C and returns a rounded result.\n",
        "    Expects an integer and returns an integer.\n",
        "    \"\"\"\n",
        "    return round((temp - 32) /1.8)\n",
        "    print(temp)"
      ],
      "metadata": {
        "id": "GXMco06JwtfJ"
      },
      "execution_count": 90,
      "outputs": []
    },
    {
      "cell_type": "code",
      "source": [
        "#Answer\n",
        "f2c = lambda fval: (fval -32)/1.8"
      ],
      "metadata": {
        "id": "36iBQ7DC0bOT"
      },
      "execution_count": 94,
      "outputs": []
    },
    {
      "cell_type": "code",
      "source": [
        "f2c(113)"
      ],
      "metadata": {
        "colab": {
          "base_uri": "https://localhost:8080/"
        },
        "id": "a3w17D840q6W",
        "outputId": "b04decd3-6d18-4f62-9ea0-72636623a780"
      },
      "execution_count": 95,
      "outputs": [
        {
          "output_type": "execute_result",
          "data": {
            "text/plain": [
              "45.0"
            ]
          },
          "metadata": {},
          "execution_count": 95
        }
      ]
    },
    {
      "cell_type": "code",
      "source": [
        "#t2t\n",
        "def t2t(temp, scale):\n",
        "  \"\"\"\n",
        "  Conbines the two previous functions and takes two arguments:\n",
        "  an integer representing the temp in either f or c\n",
        "  a charactor representing the temp scale to convert to, either f or c\n",
        "  \"\"\"\n",
        "  if scale.lower() == \"c\":\n",
        "        return f2c(temp)  # function call to f2c\n",
        "  else:\n",
        "        return c2f(temp)  # function call to c2f"
      ],
      "metadata": {
        "id": "NZEk7v2zyfqQ"
      },
      "execution_count": 91,
      "outputs": []
    },
    {
      "cell_type": "code",
      "source": [
        "#Answer\n",
        "targets = {     #create a dictionary\n",
        "    'f': c2f,\n",
        "    'c': f2c\n",
        "}"
      ],
      "metadata": {
        "id": "G2ugYNpJ0yCN"
      },
      "execution_count": 99,
      "outputs": []
    },
    {
      "cell_type": "code",
      "source": [
        "t2t = lambda tval, target: round(targets[target](tval))  #use the dictionary"
      ],
      "metadata": {
        "id": "ibnyrLVw1TCF"
      },
      "execution_count": 106,
      "outputs": []
    },
    {
      "cell_type": "code",
      "source": [
        "f = t2t(45, 'f')"
      ],
      "metadata": {
        "id": "XnS-4L_v1hB1"
      },
      "execution_count": 107,
      "outputs": []
    },
    {
      "cell_type": "code",
      "source": [
        "print(f) "
      ],
      "metadata": {
        "colab": {
          "base_uri": "https://localhost:8080/"
        },
        "id": "7Y4rfiul2W10",
        "outputId": "a011080a-317c-42d9-d92c-1b73630b7a5a"
      },
      "execution_count": 108,
      "outputs": [
        {
          "output_type": "stream",
          "name": "stdout",
          "text": [
            "113\n"
          ]
        }
      ]
    },
    {
      "cell_type": "code",
      "source": [
        "#More compactly:\n",
        "targets = {     #create a dictionary\n",
        "    'f': lambda cval: 1.8 * cval + 32,\n",
        "    'c': lambda fval: (fval -32) / 1.8\n",
        "}\n",
        "t2t = lambda tval, target: round(targets[target](tval))"
      ],
      "metadata": {
        "id": "o4NaDu2M3Iy9"
      },
      "execution_count": 110,
      "outputs": []
    },
    {
      "cell_type": "code",
      "source": [
        "t2t(45, 'f')"
      ],
      "metadata": {
        "colab": {
          "base_uri": "https://localhost:8080/"
        },
        "id": "ObFiuG7f3r6s",
        "outputId": "ba08f72f-8f49-4b3a-bdf3-ea11c5f0c09d"
      },
      "execution_count": 109,
      "outputs": [
        {
          "output_type": "execute_result",
          "data": {
            "text/plain": [
              "113"
            ]
          },
          "metadata": {},
          "execution_count": 109
        }
      ]
    },
    {
      "cell_type": "code",
      "source": [],
      "metadata": {
        "id": "83Uqo25A3vya"
      },
      "execution_count": null,
      "outputs": []
    }
  ]
}